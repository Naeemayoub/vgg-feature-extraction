{
 "cells": [
  {
   "cell_type": "code",
   "execution_count": 1,
   "metadata": {},
   "outputs": [
    {
     "name": "stdout",
     "output_type": "stream",
     "text": [
      "Platform: Darwin-18.7.0-x86_64-i386-64bit\n",
      "Tensorflow version: 2.1.0\n",
      "Keras version: 2.2.4-tf\n"
     ]
    }
   ],
   "source": [
    "import platform\n",
    "import tensorflow\n",
    "import tensorflow.keras\n",
    "print(\"Platform: {}\".format(platform.platform()))\n",
    "print(\"Tensorflow version: {}\".format(tensorflow.__version__))\n",
    "print(\"Keras version: {}\".format(tensorflow.keras.__version__))"
   ]
  },
  {
   "cell_type": "code",
   "execution_count": 2,
   "metadata": {},
   "outputs": [],
   "source": [
    "from tensorflow.keras import Model\n",
    "from tensorflow.keras.layers import Input, Dense, Flatten\n",
    "from tensorflow.keras.layers import Conv2D, MaxPooling2D"
   ]
  },
  {
   "cell_type": "code",
   "execution_count": 3,
   "metadata": {},
   "outputs": [
    {
     "name": "stdout",
     "output_type": "stream",
     "text": [
      "Model: \"vgg16-model\"\n",
      "_________________________________________________________________\n",
      "Layer (type)                 Output Shape              Param #   \n",
      "=================================================================\n",
      "img_input (InputLayer)       [(None, 224, 224, 3)]     0         \n",
      "_________________________________________________________________\n",
      "block1_conv1 (Conv2D)        (None, 224, 224, 64)      1792      \n",
      "_________________________________________________________________\n",
      "block1_conv2 (Conv2D)        (None, 224, 224, 64)      36928     \n",
      "_________________________________________________________________\n",
      "bloack1_pool (MaxPooling2D)  (None, 112, 112, 64)      0         \n",
      "_________________________________________________________________\n",
      "block2_conv1 (Conv2D)        (None, 112, 112, 128)     73856     \n",
      "_________________________________________________________________\n",
      "block2_conv2 (Conv2D)        (None, 112, 112, 128)     147584    \n",
      "_________________________________________________________________\n",
      "block2_pool (MaxPooling2D)   (None, 56, 56, 128)       0         \n",
      "_________________________________________________________________\n",
      "block3_conv1 (Conv2D)        (None, 56, 56, 256)       295168    \n",
      "_________________________________________________________________\n",
      "block3_conv2 (Conv2D)        (None, 56, 56, 256)       590080    \n",
      "_________________________________________________________________\n",
      "block3_conv3 (Conv2D)        (None, 56, 56, 256)       590080    \n",
      "_________________________________________________________________\n",
      "block3_conv4 (Conv2D)        (None, 56, 56, 256)       590080    \n",
      "_________________________________________________________________\n",
      "block3_pool (MaxPooling2D)   (None, 28, 28, 256)       0         \n",
      "_________________________________________________________________\n",
      "block4_conv1 (Conv2D)        (None, 28, 28, 512)       1180160   \n",
      "_________________________________________________________________\n",
      "block4_conv2 (Conv2D)        (None, 28, 28, 512)       2359808   \n",
      "_________________________________________________________________\n",
      "block4_conv3 (Conv2D)        (None, 28, 28, 512)       2359808   \n",
      "_________________________________________________________________\n",
      "block4_conv4 (Conv2D)        (None, 28, 28, 512)       2359808   \n",
      "_________________________________________________________________\n",
      "block4_pool (MaxPooling2D)   (None, 14, 14, 512)       0         \n",
      "_________________________________________________________________\n",
      "block5_conv1 (Conv2D)        (None, 14, 14, 512)       2359808   \n",
      "_________________________________________________________________\n",
      "block5_conv2 (Conv2D)        (None, 14, 14, 512)       2359808   \n",
      "_________________________________________________________________\n",
      "block5_conv3 (Conv2D)        (None, 14, 14, 512)       2359808   \n",
      "_________________________________________________________________\n",
      "block5_conv4 (Conv2D)        (None, 14, 14, 512)       2359808   \n",
      "_________________________________________________________________\n",
      "block5_pool (MaxPooling2D)   (None, 7, 7, 512)         0         \n",
      "_________________________________________________________________\n",
      "Flatten (Flatten)            (None, 25088)             0         \n",
      "_________________________________________________________________\n",
      "fc1 (Dense)                  (None, 4096)              102764544 \n",
      "_________________________________________________________________\n",
      "fc2 (Dense)                  (None, 4096)              16781312  \n",
      "_________________________________________________________________\n",
      "prediction (Dense)           (None, 1000)              4097000   \n",
      "=================================================================\n",
      "Total params: 143,667,240\n",
      "Trainable params: 143,667,240\n",
      "Non-trainable params: 0\n",
      "_________________________________________________________________\n"
     ]
    }
   ],
   "source": [
    "input_shape = (224, 224, 3) # RGB Image with 224x224 size\n",
    "\n",
    "#model = Sequential(name=\"vgg16-model\")\n",
    "Img_input = Input(shape=input_shape, name=\"img_input\")\n",
    "#Block_1\n",
    "x = Conv2D(64, (3, 3), padding=\"same\", activation=\"relu\", input_shape=input_shape, name=\"block1_conv1\")(Img_input)\n",
    "x = Conv2D(64, (3, 3), padding=\"same\", activation=\"relu\", name=\"block1_conv2\")(x)\n",
    "x = MaxPooling2D((2, 2), strides=(2, 2), name=\"bloack1_pool\")(x)\n",
    "\n",
    "#Block_2\n",
    "x = Conv2D(128, (3, 3), padding=\"same\", activation=\"relu\", name=\"block2_conv1\")(x)\n",
    "x = Conv2D(128, (3, 3), padding=\"same\", activation=\"relu\", name=\"block2_conv2\")(x)\n",
    "x = MaxPooling2D((2, 2), strides=(2, 2), name=\"block2_pool\")(x)\n",
    "\n",
    "#Block_3\n",
    "x = Conv2D(256, (3, 3), padding=\"same\", activation=\"relu\", name=\"block3_conv1\")(x)\n",
    "x = Conv2D(256, (3, 3), padding=\"same\", activation=\"relu\", name=\"block3_conv2\")(x)\n",
    "x = Conv2D(256, (3, 3), padding=\"same\", activation=\"relu\", name=\"block3_conv3\")(x)\n",
    "x = Conv2D(256, (3, 3), padding=\"same\", activation=\"relu\", name=\"block3_conv4\")(x)\n",
    "x = MaxPooling2D((2, 2), strides=(2, 2), name=\"block3_pool\")(x)\n",
    "\n",
    "#Block_4\n",
    "x = Conv2D(512, (3, 3), padding=\"same\", activation=\"relu\", name=\"block4_conv1\")(x)\n",
    "x = Conv2D(512, (3, 3), padding=\"same\", activation=\"relu\", name=\"block4_conv2\")(x)\n",
    "x = Conv2D(512, (3, 3), padding=\"same\", activation=\"relu\", name=\"block4_conv3\")(x)\n",
    "x = Conv2D(512, (3, 3), padding=\"same\", activation=\"relu\", name=\"block4_conv4\")(x)\n",
    "x = MaxPooling2D((2, 2), strides=(2, 2), name=\"block4_pool\")(x)\n",
    "\n",
    "#Block_5\n",
    "x = Conv2D(512, (3, 3), padding=\"same\", activation=\"relu\", name=\"block5_conv1\")(x)\n",
    "x = Conv2D(512, (3, 3), padding=\"same\", activation=\"relu\", name=\"block5_conv2\")(x)\n",
    "x = Conv2D(512, (3, 3), padding=\"same\", activation=\"relu\", name=\"block5_conv3\")(x)\n",
    "x = Conv2D(512, (3, 3), padding=\"same\", activation=\"relu\", name=\"block5_conv4\")(x)\n",
    "x = MaxPooling2D((2, 2), strides=(2, 2), name=\"block5_pool\")(x)\n",
    "\n",
    "#fc layers\n",
    "x = Flatten(name=\"Flatten\")(x)\n",
    "x = Dense(4096, activation=\"relu\", name=\"fc1\")(x)\n",
    "x = Dropout(0.5)(x)\n",
    "x = Dense(4096, activation=\"relu\", name=\"fc2\")(x)\n",
    "x = Dropout(0.5)(x)\n",
    "Output = Dense(1000, activation=\"softmax\", name=\"prediction\")(x)\n",
    "\n",
    "model = Model(inputs = Img_input, outputs=Output, name=\"vgg16-model\")\n",
    "model.summary()"
   ]
  },
  {
   "cell_type": "code",
   "execution_count": null,
   "metadata": {},
   "outputs": [],
   "source": []
  }
 ],
 "metadata": {
  "kernelspec": {
   "display_name": "Python 3",
   "language": "python",
   "name": "python3"
  },
  "language_info": {
   "codemirror_mode": {
    "name": "ipython",
    "version": 3
   },
   "file_extension": ".py",
   "mimetype": "text/x-python",
   "name": "python",
   "nbconvert_exporter": "python",
   "pygments_lexer": "ipython3",
   "version": "3.7.9"
  }
 },
 "nbformat": 4,
 "nbformat_minor": 4
}
